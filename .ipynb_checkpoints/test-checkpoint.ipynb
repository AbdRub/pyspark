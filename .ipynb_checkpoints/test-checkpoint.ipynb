{
 "cells": [
  {
   "cell_type": "code",
   "execution_count": 3,
   "id": "c59bfdd1",
   "metadata": {},
   "outputs": [
    {
     "ename": "TypeError",
     "evalue": "'JavaPackage' object is not callable",
     "output_type": "error",
     "traceback": [
      "\u001b[31m---------------------------------------------------------------------------\u001b[39m",
      "\u001b[31mTypeError\u001b[39m                                 Traceback (most recent call last)",
      "\u001b[36mCell\u001b[39m\u001b[36m \u001b[39m\u001b[32mIn[3]\u001b[39m\u001b[32m, line 30\u001b[39m\n\u001b[32m     26\u001b[39m os.environ[\u001b[33m\"\u001b[39m\u001b[33mPATH\u001b[39m\u001b[33m\"\u001b[39m] = os.environ[\u001b[33m\"\u001b[39m\u001b[33mJAVA_HOME\u001b[39m\u001b[33m\"\u001b[39m] + \u001b[33m\"\u001b[39m\u001b[33m/bin;\u001b[39m\u001b[33m\"\u001b[39m + os.environ[\u001b[33m\"\u001b[39m\u001b[33mPATH\u001b[39m\u001b[33m\"\u001b[39m]\n\u001b[32m     28\u001b[39m \u001b[38;5;28;01mfrom\u001b[39;00m\u001b[38;5;250m \u001b[39m\u001b[34;01mpyspark\u001b[39;00m\u001b[34;01m.\u001b[39;00m\u001b[34;01msql\u001b[39;00m\u001b[38;5;250m \u001b[39m\u001b[38;5;28;01mimport\u001b[39;00m SparkSession\n\u001b[32m---> \u001b[39m\u001b[32m30\u001b[39m spark = \u001b[43mSparkSession\u001b[49m\u001b[43m.\u001b[49m\u001b[43mbuilder\u001b[49m\u001b[43m.\u001b[49m\u001b[43mappName\u001b[49m\u001b[43m(\u001b[49m\u001b[33;43m\"\u001b[39;49m\u001b[33;43mExampleApp\u001b[39;49m\u001b[33;43m\"\u001b[39;49m\u001b[43m)\u001b[49m\u001b[43m.\u001b[49m\u001b[43mgetOrCreate\u001b[49m\u001b[43m(\u001b[49m\u001b[43m)\u001b[49m\n\u001b[32m     31\u001b[39m df = spark.range(\u001b[32m5\u001b[39m)\n\u001b[32m     32\u001b[39m df.show()\n",
      "\u001b[36mFile \u001b[39m\u001b[32mc:\\Users\\abdulrub\\Desktop\\ROOT\\pyspark\\venv\\Lib\\site-packages\\pyspark\\sql\\session.py:559\u001b[39m, in \u001b[36mSparkSession.Builder.getOrCreate\u001b[39m\u001b[34m(self)\u001b[39m\n\u001b[32m    556\u001b[39m     sc = SparkContext.getOrCreate(sparkConf)\n\u001b[32m    557\u001b[39m     \u001b[38;5;66;03m# Do not update `SparkConf` for existing `SparkContext`, as it's shared\u001b[39;00m\n\u001b[32m    558\u001b[39m     \u001b[38;5;66;03m# by all sessions.\u001b[39;00m\n\u001b[32m--> \u001b[39m\u001b[32m559\u001b[39m     session = \u001b[43mSparkSession\u001b[49m\u001b[43m(\u001b[49m\u001b[43msc\u001b[49m\u001b[43m,\u001b[49m\u001b[43m \u001b[49m\u001b[43moptions\u001b[49m\u001b[43m=\u001b[49m\u001b[38;5;28;43mself\u001b[39;49m\u001b[43m.\u001b[49m\u001b[43m_options\u001b[49m\u001b[43m)\u001b[49m\n\u001b[32m    560\u001b[39m \u001b[38;5;28;01melse\u001b[39;00m:\n\u001b[32m    561\u001b[39m     module = SparkSession._get_j_spark_session_module(session._jvm)\n",
      "\u001b[36mFile \u001b[39m\u001b[32mc:\\Users\\abdulrub\\Desktop\\ROOT\\pyspark\\venv\\Lib\\site-packages\\pyspark\\sql\\session.py:635\u001b[39m, in \u001b[36mSparkSession.__init__\u001b[39m\u001b[34m(self, sparkContext, jsparkSession, options)\u001b[39m\n\u001b[32m    631\u001b[39m jSparkSessionModule = SparkSession._get_j_spark_session_module(\u001b[38;5;28mself\u001b[39m._jvm)\n\u001b[32m    633\u001b[39m \u001b[38;5;28;01mif\u001b[39;00m jsparkSession \u001b[38;5;129;01mis\u001b[39;00m \u001b[38;5;28;01mNone\u001b[39;00m:\n\u001b[32m    634\u001b[39m     \u001b[38;5;28;01mif\u001b[39;00m (\n\u001b[32m--> \u001b[39m\u001b[32m635\u001b[39m         \u001b[43mjSparkSessionClass\u001b[49m\u001b[43m.\u001b[49m\u001b[43mgetDefaultSession\u001b[49m\u001b[43m(\u001b[49m\u001b[43m)\u001b[49m.isDefined()\n\u001b[32m    636\u001b[39m         \u001b[38;5;129;01mand\u001b[39;00m \u001b[38;5;129;01mnot\u001b[39;00m jSparkSessionClass.getDefaultSession().get().sparkContext().isStopped()\n\u001b[32m    637\u001b[39m     ):\n\u001b[32m    638\u001b[39m         jsparkSession = jSparkSessionClass.getDefaultSession().get()\n\u001b[32m    639\u001b[39m         jSparkSessionModule.applyModifiableSettings(jsparkSession, options)\n",
      "\u001b[31mTypeError\u001b[39m: 'JavaPackage' object is not callable"
     ]
    }
   ],
   "source": [
    "# import os\n",
    "# print(\"JAVA_HOME:\", os.environ.get(\"JAVA_HOME\"))\n",
    "\n",
    "# from pyspark.sql import SparkSession\n",
    "\n",
    "# spark = SparkSession.builder.appName(\"ExampleApp\").getOrCreate()\n",
    "\n",
    "# col_schema = [\"Language\", \"Version\"]\n",
    "\n",
    "# Data = ((\"Jdk\",\"17.0.12\"), (\"Python\", \"3.11.9\"), (\"Spark\", \"3.5.1\"),   \\\n",
    "#     (\"Hadoop\", \"3.3 and later\"), (\"Winutils\", \"3.6\"),  \\\n",
    "#   )\n",
    "\n",
    "# df = spark.createDataFrame(data=Data, schema=col_schema)\n",
    "# df.printSchema()\n",
    "# df.show(5, truncate=False)\n",
    "\n",
    "# from pyspark import SparkContext\n",
    "\n",
    "# sc = SparkContext.getOrCreate()\n",
    "# print(sc.version)\n",
    "\n",
    "import os\n",
    "\n",
    "os.environ[\"JAVA_HOME\"] = \"C:/java/jdk-17\"\n",
    "os.environ[\"PATH\"] = os.environ[\"JAVA_HOME\"] + \"/bin;\" + os.environ[\"PATH\"]\n",
    "\n",
    "from pyspark.sql import SparkSession\n",
    "\n",
    "spark = SparkSession.builder.appName(\"ExampleApp\").getOrCreate()\n",
    "df = spark.range(5)\n",
    "df.show()"
   ]
  }
 ],
 "metadata": {
  "kernelspec": {
   "display_name": "venv",
   "language": "python",
   "name": "python3"
  },
  "language_info": {
   "codemirror_mode": {
    "name": "ipython",
    "version": 3
   },
   "file_extension": ".py",
   "mimetype": "text/x-python",
   "name": "python",
   "nbconvert_exporter": "python",
   "pygments_lexer": "ipython3",
   "version": "3.11.9"
  }
 },
 "nbformat": 4,
 "nbformat_minor": 5
}
