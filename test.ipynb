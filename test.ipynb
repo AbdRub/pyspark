{
 "cells": [
  {
   "cell_type": "code",
   "execution_count": 2,
   "id": "3e114fe9",
   "metadata": {},
   "outputs": [
    {
     "name": "stdout",
     "output_type": "stream",
     "text": [
      "+--------+-------------+\n",
      "|Language|      Version|\n",
      "+--------+-------------+\n",
      "|     Jdk|      17.0.12|\n",
      "|  Python|       3.11.9|\n",
      "|   Spark|        3.5.1|\n",
      "|  Hadoop|3.3 and later|\n",
      "|Winutils|          3.6|\n",
      "+--------+-------------+\n",
      "\n"
     ]
    }
   ],
   "source": [
    "from pyspark.sql import SparkSession\n",
    "\n",
    "spark = SparkSession.builder.appName(\"ExampleApp\").getOrCreate()\n",
    "\n",
    "col_schema = [\"Language\", \"Version\"]\n",
    "\n",
    "Data = ((\"Jdk\",\"17.0.12\"), (\"Python\", \"3.11.9\"), (\"Spark\", \"3.5.1\"),   \\\n",
    "    (\"Hadoop\", \"3.3 and later\"), (\"Winutils\", \"3.6\"),  \\\n",
    "  )\n",
    "\n",
    "df = spark.createDataFrame(data=Data, schema=col_schema)\n",
    "# df.printSchema()\n",
    "df.show()"
   ]
  }
 ],
 "metadata": {
  "kernelspec": {
   "display_name": "venv",
   "language": "python",
   "name": "python3"
  },
  "language_info": {
   "codemirror_mode": {
    "name": "ipython",
    "version": 3
   },
   "file_extension": ".py",
   "mimetype": "text/x-python",
   "name": "python",
   "nbconvert_exporter": "python",
   "pygments_lexer": "ipython3",
   "version": "3.11.9"
  }
 },
 "nbformat": 4,
 "nbformat_minor": 5
}
